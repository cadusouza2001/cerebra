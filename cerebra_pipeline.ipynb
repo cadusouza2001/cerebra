{
 "cells": [
  {
   "cell_type": "markdown",
   "metadata": {},
   "source": [
    "# Pipeline de Treinamento do Cerebra\n",
    "Este notebook executa todas as etapas do projeto Cerebra em sequ\u00eancia.\n"
   ]
  },
  {
   "cell_type": "markdown",
   "metadata": {},
   "source": [
    "## Instala\u00e7\u00e3o de depend\u00eancias\n",
    "Execute esta c\u00e9lula para instalar as bibliotecas necess\u00e1rias."
   ]
  },
  {
   "cell_type": "code",
   "metadata": {},
   "source": [
    "!pip install aiohttp beautifulsoup4 txtai torch google-generativeai"
   ],
   "execution_count": null,
   "outputs": []
  },
  {
   "cell_type": "markdown",
   "metadata": {},
   "source": [
    "## (Opcional) Montar o Google Drive\n",
    "Se desejar salvar outputs diretamente no Drive, execute a c\u00e9lula abaixo."
   ]
  },
  {
   "cell_type": "code",
   "metadata": {},
   "source": [
    "from google.colab import drive\n",
    "drive.mount('/content/drive')"
   ],
   "execution_count": null,
   "outputs": []
  },
  {
   "cell_type": "markdown",
   "metadata": {},
   "source": [
    "## Configura\u00e7\u00e3o de vari\u00e1veis de ambiente\n",
    "As chaves da API devem ser definidas nos *Secrets* do Colab.\n"
   ]
  },
  {
   "cell_type": "code",
   "metadata": {},
   "source": [
"from google.colab import userdata\n",
"import os\n",
"from google.colab.userdata import SecretNotFoundError\n",
"\n",
"possible_keys = ['GOOGLE_API_KEY'] + [f'GOOGLE_API_KEY_{i}' for i in range(1, 10)]\n",
"api_keys = []\n",
"for k in possible_keys:\n",
"    try:\n",
"        value = userdata.get(k)\n",
"        if value:\n",
"            api_keys.append(value)\n",
"    except SecretNotFoundError:\n",
"        continue\n",
"\n",
"if not api_keys:\n",
"    raise RuntimeError('Nenhuma chave de API encontrada. Defina pelo menos GOOGLE_API_KEY nos secrets do Colab.')\n",
"\n",
"os.environ['GEMINI_API_KEYS'] = ','.join(api_keys)\n",
"\n",
"# Outros caminhos configur\u00e1veis\n",
"os.environ['DATASET_FILE'] = 'qa_dataset/spark_qa_generative_dataset.jsonl'\n",
"os.environ['OUTPUT_MODEL_DIR'] = 'spark_expert_model'"
   ],
   "execution_count": null,
   "outputs": []
  },
  {
   "cell_type": "markdown",
   "metadata": {},
   "source": [
    "## 1. Raspagem da documenta\u00e7\u00e3o"
   ]
  },
  {
   "cell_type": "code",
   "metadata": {},
   "source": [
    "!python src/scrape_fast_resumable.py"
   ],
   "execution_count": null,
   "outputs": []
  },
  {
   "cell_type": "markdown",
   "metadata": {},
   "source": [
    "## 2. Cria\u00e7\u00e3o do \u00edndice sem\u00e2ntico"
   ]
  },
  {
   "cell_type": "code",
   "metadata": {},
   "source": [
    "!python src/index_spark_docs.py"
   ],
   "execution_count": null,
   "outputs": []
  },
  {
   "cell_type": "markdown",
   "metadata": {},
   "source": [
    "## 3. Gera\u00e7\u00e3o do dataset"
   ]
  },
  {
   "cell_type": "code",
   "metadata": {},
   "source": [
    "!python src/generate_qa_dataset.py"
   ],
   "execution_count": null,
   "outputs": []
  },
  {
   "cell_type": "markdown",
   "metadata": {},
   "source": [
    "## 4. Treinamento do modelo"
   ]
  },
  {
   "cell_type": "code",
   "metadata": {},
   "source": [
    "!python src/train.py"
   ],
   "execution_count": null,
   "outputs": []
  },
  {
   "cell_type": "markdown",
   "metadata": {},
   "source": [
    "## 5. Avalia\u00e7\u00e3o do modelo"
   ]
  },
  {
   "cell_type": "code",
   "metadata": {},
   "source": [
    "!python src/evaluate_model.py"
   ],
   "execution_count": null,
   "outputs": []
  },
  {
   "cell_type": "markdown",
   "metadata": {},
   "source": [
    "## 6. Gera\u00e7\u00e3o de gr\u00e1ficos"
   ]
  },
  {
   "cell_type": "code",
   "metadata": {},
   "source": [
    "!python src/plot_graphs.py"
   ],
   "execution_count": null,
   "outputs": []
  },
  {
   "cell_type": "markdown",
   "metadata": {},
   "source": [
    "## 7. Perguntas interativas"
   ]
  },
  {
   "cell_type": "code",
   "metadata": {},
   "source": [
    "!python src/run_qa_system.py"
   ],
   "execution_count": null,
   "outputs": []
  }
 ],
 "metadata": {
  "kernelspec": {
   "display_name": "Python 3",
   "language": "python",
   "name": "python3"
  },
  "language_info": {
   "name": "python",
   "version": "3.x"
  }
 },
 "nbformat": 4,
 "nbformat_minor": 2
}
